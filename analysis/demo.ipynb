{
 "cells": [
  {
   "cell_type": "code",
   "execution_count": 1,
   "metadata": {
    "ExecuteTime": {
     "end_time": "2024-08-08T07:34:08.559146Z",
     "start_time": "2024-08-08T07:34:08.555491Z"
    }
   },
   "outputs": [],
   "source": [
    "# Create folder named experiment#1 in processed data, outputs and analysis\n",
    "\n",
    "# Get data for flow, tessellations, demographics and geographical boundary of WA\n",
    "\n",
    "# Split data into training and test - create four files: Flows for train and test, region indices for train and test\n",
    "# Save these files in processed data folder \n",
    "# TODO Create visualization and save to outputs of experiement\n",
    "\n",
    "# Biased sampling on the training data to create two biased datasets - save in processed data folder for experiment1 \n",
    "\n",
    "# Run single constrained gravity model on biased training data and original data to create three models \n",
    "# Run trained models on unbiased test data and create generated flows in outputs \n",
    "\n",
    "# Use generated flows from outputs and test true labels from processed data to create fairness metrics and visualizations\n",
    "# Save this in outputs - fairness.json and fairness.png (for each model)"
   ]
  },
  {
   "cell_type": "code",
   "outputs": [],
   "source": [
    "import sys\n",
    "import os\n",
    "import pandas as pd\n",
    "import geopandas as gpd\n",
    "import matplotlib.pyplot as plt\n",
    "\n",
    "experiment_id = '1'"
   ],
   "metadata": {
    "collapsed": false,
    "ExecuteTime": {
     "end_time": "2024-08-08T07:55:40.024478Z",
     "start_time": "2024-08-08T07:55:39.204195Z"
    }
   },
   "execution_count": 1
  },
  {
   "cell_type": "code",
   "execution_count": 2,
   "metadata": {
    "ExecuteTime": {
     "end_time": "2024-08-08T07:55:44.785991Z",
     "start_time": "2024-08-08T07:55:40.025943Z"
    }
   },
   "outputs": [
    {
     "name": "stderr",
     "output_type": "stream",
     "text": [
      "/Users/apple/opt/anaconda3/envs/pycharm_crowdflow/lib/python3.9/site-packages/IPython/core/interactiveshell.py:3550: FutureWarning: The `op` parameter is deprecated and will be removed in a future release. Please use the `predicate` parameter instead.\n",
      "  exec(code_obj, self.user_global_ns, self.user_ns)\n"
     ]
    },
    {
     "name": "stdout",
     "output_type": "stream",
     "text": [
      "Processed and saved all datasets successfully.\n",
      "Missing geoids tessellation have been saved to ../processed_data/1/diagnosis_split_missing/missing_geoids_tessellation.csv.\n"
     ]
    },
    {
     "name": "stderr",
     "output_type": "stream",
     "text": [
      "/Users/apple/opt/anaconda3/envs/pycharm_crowdflow/lib/python3.9/site-packages/geopandas/io/file.py:362: FutureWarning: pandas.Int64Index is deprecated and will be removed from pandas in a future version. Use pandas.Index with the appropriate dtype instead.\n",
      "  pd.Int64Index,\n",
      "/Users/apple/opt/anaconda3/envs/pycharm_crowdflow/lib/python3.9/site-packages/geopandas/io/file.py:362: FutureWarning: pandas.Int64Index is deprecated and will be removed from pandas in a future version. Use pandas.Index with the appropriate dtype instead.\n",
      "  pd.Int64Index,\n"
     ]
    }
   ],
   "source": [
    "# Split the data into train and test sets\n",
    "\n",
    "sys.path.append(os.path.abspath('../preprocessing'))\n",
    "from train_test_processing import *\n",
    "sys.path.append(os.path.abspath('../preprocessing'))\n",
    "from train_test_split_vis import *\n",
    "\n",
    "washington = load_state_or_county_data('../data/WA/boundary.geojson')\n",
    "flow_df = pd.read_csv('../data/WA/flow.csv')\n",
    "features_df = pd.read_csv('../data/WA/features.csv')\n",
    "tessellation_df = load_state_or_county_data('../data/WA/tessellation_wpop.geojson')\n",
    "grid = create_grid(washington.unary_union, 25)\n",
    "\n",
    "train_output, test_output = flow_train_test_split(tessellation_df, features_df, grid, experiment_id = experiment_id)\n",
    "\n",
    "# TODO:\n",
    "# plot_grid_and_census_tracts(grid, tessellation_df, train_output, test_output)\n",
    "\n",
    "filter_train_test_data(flow_df, tessellation_df, features_df, train_output, test_output, experiment_id = experiment_id)"
   ]
  },
  {
   "cell_type": "code",
   "execution_count": 3,
   "metadata": {
    "ExecuteTime": {
     "end_time": "2024-08-08T07:55:47.893446Z",
     "start_time": "2024-08-08T07:55:44.787193Z"
    }
   },
   "outputs": [
    {
     "name": "stderr",
     "output_type": "stream",
     "text": [
      "/Users/apple/Documents/GitHub/DSSG-CF/crowdflow-fairness/preprocessing/biased_sampling.py:32: FutureWarning: Passing 'suffixes' which cause duplicate columns {'geoid_x'} in the result is deprecated and will raise a MergeError in a future version.\n",
      "  destination_merge = pd.merge(destination_merge, features_df[['geoid', 'total_population']], how='left', left_on='destination', right_on='geoid')\n"
     ]
    },
    {
     "name": "stdout",
     "output_type": "stream",
     "text": [
      "Missing train sampling flow diagnostic saved to ../processed_data/1/train/diagnosis_sampling_missing/missing_flow.csv.\n",
      "(17735, 7)\n",
      "Saved adjusted flows to ../processed_data/1/train/flows/svi/1_ascending_biased_flow.csv.\n",
      "Missing train sampling flow diagnostic saved to ../processed_data/1/train/diagnosis_sampling_missing/missing_flow.csv.\n",
      "(17735, 7)\n"
     ]
    },
    {
     "name": "stderr",
     "output_type": "stream",
     "text": [
      "/Users/apple/Documents/GitHub/DSSG-CF/crowdflow-fairness/preprocessing/biased_sampling.py:32: FutureWarning: Passing 'suffixes' which cause duplicate columns {'geoid_x'} in the result is deprecated and will raise a MergeError in a future version.\n",
      "  destination_merge = pd.merge(destination_merge, features_df[['geoid', 'total_population']], how='left', left_on='destination', right_on='geoid')\n"
     ]
    },
    {
     "name": "stdout",
     "output_type": "stream",
     "text": [
      "Saved adjusted flows to ../processed_data/1/train/flows/svi/1_descending_biased_flow.csv.\n",
      "Missing train sampling flow diagnostic saved to ../processed_data/1/train/diagnosis_sampling_missing/missing_flow.csv.\n",
      "(17735, 7)\n"
     ]
    },
    {
     "name": "stderr",
     "output_type": "stream",
     "text": [
      "/Users/apple/Documents/GitHub/DSSG-CF/crowdflow-fairness/preprocessing/biased_sampling.py:32: FutureWarning: Passing 'suffixes' which cause duplicate columns {'geoid_x'} in the result is deprecated and will raise a MergeError in a future version.\n",
      "  destination_merge = pd.merge(destination_merge, features_df[['geoid', 'total_population']], how='left', left_on='destination', right_on='geoid')\n"
     ]
    },
    {
     "name": "stdout",
     "output_type": "stream",
     "text": [
      "Saved adjusted flows to ../processed_data/1/train/flows/svi/2_ascending_biased_flow.csv.\n",
      "Missing train sampling flow diagnostic saved to ../processed_data/1/train/diagnosis_sampling_missing/missing_flow.csv.\n",
      "(17735, 7)\n"
     ]
    },
    {
     "name": "stderr",
     "output_type": "stream",
     "text": [
      "/Users/apple/Documents/GitHub/DSSG-CF/crowdflow-fairness/preprocessing/biased_sampling.py:32: FutureWarning: Passing 'suffixes' which cause duplicate columns {'geoid_x'} in the result is deprecated and will raise a MergeError in a future version.\n",
      "  destination_merge = pd.merge(destination_merge, features_df[['geoid', 'total_population']], how='left', left_on='destination', right_on='geoid')\n"
     ]
    },
    {
     "name": "stdout",
     "output_type": "stream",
     "text": [
      "Saved adjusted flows to ../processed_data/1/train/flows/svi/2_descending_biased_flow.csv.\n"
     ]
    }
   ],
   "source": [
    "# Biased sampling train flow data\n",
    "\n",
    "sys.path.append(os.path.abspath('../preprocessing'))\n",
    "from biased_sampling import *\n",
    "\n",
    "features_df = pd.read_csv('../processed_data/1/train/train_features.csv')\n",
    "train_flows_df = pd.read_csv('../processed_data/1/train/flows/train_flow.csv')\n",
    "demographics_df = pd.read_csv('../data/WA/demographics.csv')\n",
    "\n",
    "\n",
    "calculate_biased_flow(features_df, demographics_df, train_flows_df, demographic_column_name='svi', method=1, order='ascending', sampling=False, experiment_id=experiment_id, bias_factor=0.5)\n",
    "calculate_biased_flow(features_df, demographics_df, train_flows_df, demographic_column_name='svi', method=1, order='descending', sampling=False, experiment_id=experiment_id, bias_factor=0.5)\n",
    "calculate_biased_flow(features_df, demographics_df, train_flows_df, demographic_column_name='svi', method=2, order='ascending', sampling=False, experiment_id=experiment_id, bias_factor=0.5)\n",
    "calculate_biased_flow(features_df, demographics_df, train_flows_df, demographic_column_name='svi', method=2, order='descending', sampling=False, experiment_id=experiment_id, bias_factor=0.5)"
   ]
  },
  {
   "cell_type": "code",
   "execution_count": 5,
   "metadata": {
    "ExecuteTime": {
     "end_time": "2024-08-08T08:09:21.857694Z",
     "start_time": "2024-08-08T08:04:57.534337Z"
    }
   },
   "outputs": [
    {
     "name": "stdout",
     "output_type": "stream",
     "text": [
      "Model fitting starts...\n",
      "Model fitting completed.\n"
     ]
    },
    {
     "name": "stderr",
     "output_type": "stream",
     "text": [
      "100%|██████████| 628/628 [00:00<00:00, 2134.72it/s]\n",
      "/Users/apple/opt/anaconda3/envs/pycharm_crowdflow/lib/python3.9/site-packages/skmob/models/gravity.py:43: RuntimeWarning: divide by zero encountered in power\n",
      "  return np.power(x, exponent)\n",
      "/Users/apple/opt/anaconda3/envs/pycharm_crowdflow/lib/python3.9/site-packages/skmob/models/gravity.py:298: RuntimeWarning: invalid value encountered in multiply\n",
      "  trip_probs_matrix = trip_probs_matrix * relevances_dest ** self.destination_exp * \\\n",
      "/Users/apple/opt/anaconda3/envs/pycharm_crowdflow/lib/python3.9/site-packages/skmob/models/gravity.py:378: RuntimeWarning: invalid value encountered in divide\n",
      "  trip_probs_matrix = (trip_probs_matrix.T / np.sum(trip_probs_matrix, axis=1)).T\n"
     ]
    }
   ],
   "source": [
    "# Fit gravity model\n",
    "\n",
    "sys.path.append(os.path.abspath('../models'))\n",
    "from gravity import *\n",
    "\n",
    "tessellation_train = gpd.read_file('../processed_data/1/train/train_tessellation.geojson')\n",
    "tessellation_test = gpd.read_file('../processed_data/1/test/test_tessellation.geojson')\n",
    "\n",
    "gravity_0 = grav_Model(tessellation_train, tessellation_test, '../processed_data/1/train/flows/train_flow.csv', '../processed_data/1/test/flows/test_flow.csv', 'gravity_singly_constrained', 'flows')"
   ]
  },
  {
   "cell_type": "code",
   "outputs": [
    {
     "name": "stdout",
     "output_type": "stream",
     "text": [
      "Model fitting starts...\n"
     ]
    },
    {
     "ename": "ValueError",
     "evalue": "The first guess on the deviance function returned a nan.  This could be a boundary  problem and should be reported.",
     "output_type": "error",
     "traceback": [
      "\u001B[0;31m---------------------------------------------------------------------------\u001B[0m",
      "\u001B[0;31mValueError\u001B[0m                                Traceback (most recent call last)",
      "Cell \u001B[0;32mIn[9], line 7\u001B[0m\n\u001B[1;32m      3\u001B[0m testtest[\u001B[38;5;124m'\u001B[39m\u001B[38;5;124mflow\u001B[39m\u001B[38;5;124m'\u001B[39m] \u001B[38;5;241m=\u001B[39m np\u001B[38;5;241m.\u001B[39mceil(testtest[\u001B[38;5;124m'\u001B[39m\u001B[38;5;124mflow\u001B[39m\u001B[38;5;124m'\u001B[39m])\n\u001B[1;32m      4\u001B[0m testtest\u001B[38;5;241m.\u001B[39mto_csv(\u001B[38;5;124m'\u001B[39m\u001B[38;5;124m../processed_data/1/train/flows/svi/testtest.csv\u001B[39m\u001B[38;5;124m'\u001B[39m, index\u001B[38;5;241m=\u001B[39m\u001B[38;5;28;01mFalse\u001B[39;00m)\n\u001B[0;32m----> 7\u001B[0m gravity_test \u001B[38;5;241m=\u001B[39m \u001B[43mgrav_Model\u001B[49m\u001B[43m(\u001B[49m\u001B[43mtessellation_train\u001B[49m\u001B[43m,\u001B[49m\u001B[43m \u001B[49m\u001B[43mtessellation_test\u001B[49m\u001B[43m,\u001B[49m\u001B[43m \u001B[49m\u001B[38;5;124;43m'\u001B[39;49m\u001B[38;5;124;43m../processed_data/1/train/flows/svi/testtest.csv\u001B[39;49m\u001B[38;5;124;43m'\u001B[39;49m\u001B[43m,\u001B[49m\u001B[43m \u001B[49m\u001B[38;5;124;43m'\u001B[39;49m\u001B[38;5;124;43m../processed_data/1/test/flows/test_flow.csv\u001B[39;49m\u001B[38;5;124;43m'\u001B[39;49m\u001B[43m,\u001B[49m\u001B[43m \u001B[49m\u001B[38;5;124;43m'\u001B[39;49m\u001B[38;5;124;43mgravity_singly_constrained\u001B[39;49m\u001B[38;5;124;43m'\u001B[39;49m\u001B[43m,\u001B[49m\u001B[43m \u001B[49m\u001B[38;5;124;43m'\u001B[39;49m\u001B[38;5;124;43mflows\u001B[39;49m\u001B[38;5;124;43m'\u001B[39;49m\u001B[43m)\u001B[49m\n",
      "File \u001B[0;32m~/Documents/GitHub/DSSG-CF/crowdflow-fairness/models/gravity.py:61\u001B[0m, in \u001B[0;36mgrav_Model\u001B[0;34m(tessellation_train, tessellation_test, flow_data_train_location, flow_data_test_location, gravity_type, out_format)\u001B[0m\n\u001B[1;32m     59\u001B[0m \u001B[38;5;66;03m# Fit the gravity model to the flow data using 'total_population'\u001B[39;00m\n\u001B[1;32m     60\u001B[0m \u001B[38;5;28mprint\u001B[39m(\u001B[38;5;124m'\u001B[39m\u001B[38;5;124mModel fitting starts...\u001B[39m\u001B[38;5;124m'\u001B[39m) \u001B[38;5;66;03m# Notification\u001B[39;00m\n\u001B[0;32m---> 61\u001B[0m \u001B[43mgravity_singly_fitted\u001B[49m\u001B[38;5;241;43m.\u001B[39;49m\u001B[43mfit\u001B[49m\u001B[43m(\u001B[49m\u001B[43mtrain_data\u001B[49m\u001B[43m,\u001B[49m\u001B[43m \u001B[49m\u001B[43mrelevance_column\u001B[49m\u001B[38;5;241;43m=\u001B[39;49m\u001B[38;5;124;43m'\u001B[39;49m\u001B[38;5;124;43mtotal_population\u001B[39;49m\u001B[38;5;124;43m'\u001B[39;49m\u001B[43m)\u001B[49m\n\u001B[1;32m     62\u001B[0m \u001B[38;5;28mprint\u001B[39m(\u001B[38;5;124m'\u001B[39m\u001B[38;5;124mModel fitting completed.\u001B[39m\u001B[38;5;124m'\u001B[39m) \u001B[38;5;66;03m# Notification\u001B[39;00m\n\u001B[1;32m     64\u001B[0m \u001B[38;5;66;03m# Generate synthetic flow data using the fitted gravity model\u001B[39;00m\n",
      "File \u001B[0;32m~/opt/anaconda3/envs/pycharm_crowdflow/lib/python3.9/site-packages/skmob/models/gravity.py:475\u001B[0m, in \u001B[0;36mGravity.fit\u001B[0;34m(self, flow_df, relevance_column)\u001B[0m\n\u001B[1;32m    473\u001B[0m \u001B[38;5;66;03m# Perform GLM fit\u001B[39;00m\n\u001B[1;32m    474\u001B[0m poisson_model \u001B[38;5;241m=\u001B[39m GLM(\u001B[38;5;28mself\u001B[39m\u001B[38;5;241m.\u001B[39my, \u001B[38;5;28mself\u001B[39m\u001B[38;5;241m.\u001B[39mX, family\u001B[38;5;241m=\u001B[39msm\u001B[38;5;241m.\u001B[39mgenmod\u001B[38;5;241m.\u001B[39mfamilies\u001B[38;5;241m.\u001B[39mfamily\u001B[38;5;241m.\u001B[39mPoisson(link\u001B[38;5;241m=\u001B[39msm\u001B[38;5;241m.\u001B[39mgenmod\u001B[38;5;241m.\u001B[39mfamilies\u001B[38;5;241m.\u001B[39mlinks\u001B[38;5;241m.\u001B[39mlog()))\n\u001B[0;32m--> 475\u001B[0m poisson_results \u001B[38;5;241m=\u001B[39m \u001B[43mpoisson_model\u001B[49m\u001B[38;5;241;43m.\u001B[39;49m\u001B[43mfit\u001B[49m\u001B[43m(\u001B[49m\u001B[43m)\u001B[49m\n\u001B[1;32m    477\u001B[0m \u001B[38;5;66;03m# Set best fit parameters\u001B[39;00m\n\u001B[1;32m    478\u001B[0m \u001B[38;5;28;01mif\u001B[39;00m \u001B[38;5;28mself\u001B[39m\u001B[38;5;241m.\u001B[39m_gravity_type \u001B[38;5;241m==\u001B[39m \u001B[38;5;124m'\u001B[39m\u001B[38;5;124mglobally constrained\u001B[39m\u001B[38;5;124m'\u001B[39m:\n",
      "File \u001B[0;32m~/opt/anaconda3/envs/pycharm_crowdflow/lib/python3.9/site-packages/statsmodels/genmod/generalized_linear_model.py:1075\u001B[0m, in \u001B[0;36mGLM.fit\u001B[0;34m(self, start_params, maxiter, method, tol, scale, cov_type, cov_kwds, use_t, full_output, disp, max_start_irls, **kwargs)\u001B[0m\n\u001B[1;32m   1073\u001B[0m     \u001B[38;5;28;01mif\u001B[39;00m cov_type\u001B[38;5;241m.\u001B[39mlower() \u001B[38;5;241m==\u001B[39m \u001B[38;5;124m'\u001B[39m\u001B[38;5;124meim\u001B[39m\u001B[38;5;124m'\u001B[39m:\n\u001B[1;32m   1074\u001B[0m         cov_type \u001B[38;5;241m=\u001B[39m \u001B[38;5;124m'\u001B[39m\u001B[38;5;124mnonrobust\u001B[39m\u001B[38;5;124m'\u001B[39m\n\u001B[0;32m-> 1075\u001B[0m     \u001B[38;5;28;01mreturn\u001B[39;00m \u001B[38;5;28;43mself\u001B[39;49m\u001B[38;5;241;43m.\u001B[39;49m\u001B[43m_fit_irls\u001B[49m\u001B[43m(\u001B[49m\u001B[43mstart_params\u001B[49m\u001B[38;5;241;43m=\u001B[39;49m\u001B[43mstart_params\u001B[49m\u001B[43m,\u001B[49m\u001B[43m \u001B[49m\u001B[43mmaxiter\u001B[49m\u001B[38;5;241;43m=\u001B[39;49m\u001B[43mmaxiter\u001B[49m\u001B[43m,\u001B[49m\n\u001B[1;32m   1076\u001B[0m \u001B[43m                          \u001B[49m\u001B[43mtol\u001B[49m\u001B[38;5;241;43m=\u001B[39;49m\u001B[43mtol\u001B[49m\u001B[43m,\u001B[49m\u001B[43m \u001B[49m\u001B[43mscale\u001B[49m\u001B[38;5;241;43m=\u001B[39;49m\u001B[43mscale\u001B[49m\u001B[43m,\u001B[49m\u001B[43m \u001B[49m\u001B[43mcov_type\u001B[49m\u001B[38;5;241;43m=\u001B[39;49m\u001B[43mcov_type\u001B[49m\u001B[43m,\u001B[49m\n\u001B[1;32m   1077\u001B[0m \u001B[43m                          \u001B[49m\u001B[43mcov_kwds\u001B[49m\u001B[38;5;241;43m=\u001B[39;49m\u001B[43mcov_kwds\u001B[49m\u001B[43m,\u001B[49m\u001B[43m \u001B[49m\u001B[43muse_t\u001B[49m\u001B[38;5;241;43m=\u001B[39;49m\u001B[43muse_t\u001B[49m\u001B[43m,\u001B[49m\u001B[43m \u001B[49m\u001B[38;5;241;43m*\u001B[39;49m\u001B[38;5;241;43m*\u001B[39;49m\u001B[43mkwargs\u001B[49m\u001B[43m)\u001B[49m\n\u001B[1;32m   1078\u001B[0m \u001B[38;5;28;01melse\u001B[39;00m:\n\u001B[1;32m   1079\u001B[0m     \u001B[38;5;28mself\u001B[39m\u001B[38;5;241m.\u001B[39m_optim_hessian \u001B[38;5;241m=\u001B[39m kwargs\u001B[38;5;241m.\u001B[39mget(\u001B[38;5;124m'\u001B[39m\u001B[38;5;124moptim_hessian\u001B[39m\u001B[38;5;124m'\u001B[39m)\n",
      "File \u001B[0;32m~/opt/anaconda3/envs/pycharm_crowdflow/lib/python3.9/site-packages/statsmodels/genmod/generalized_linear_model.py:1192\u001B[0m, in \u001B[0;36mGLM._fit_irls\u001B[0;34m(self, start_params, maxiter, tol, scale, cov_type, cov_kwds, use_t, **kwargs)\u001B[0m\n\u001B[1;32m   1189\u001B[0m dev \u001B[38;5;241m=\u001B[39m \u001B[38;5;28mself\u001B[39m\u001B[38;5;241m.\u001B[39mfamily\u001B[38;5;241m.\u001B[39mdeviance(\u001B[38;5;28mself\u001B[39m\u001B[38;5;241m.\u001B[39mendog, mu, \u001B[38;5;28mself\u001B[39m\u001B[38;5;241m.\u001B[39mvar_weights,\n\u001B[1;32m   1190\u001B[0m                            \u001B[38;5;28mself\u001B[39m\u001B[38;5;241m.\u001B[39mfreq_weights, \u001B[38;5;28mself\u001B[39m\u001B[38;5;241m.\u001B[39mscale)\n\u001B[1;32m   1191\u001B[0m \u001B[38;5;28;01mif\u001B[39;00m np\u001B[38;5;241m.\u001B[39misnan(dev):\n\u001B[0;32m-> 1192\u001B[0m     \u001B[38;5;28;01mraise\u001B[39;00m \u001B[38;5;167;01mValueError\u001B[39;00m(\u001B[38;5;124m\"\u001B[39m\u001B[38;5;124mThe first guess on the deviance function \u001B[39m\u001B[38;5;124m\"\u001B[39m\n\u001B[1;32m   1193\u001B[0m                      \u001B[38;5;124m\"\u001B[39m\u001B[38;5;124mreturned a nan.  This could be a boundary \u001B[39m\u001B[38;5;124m\"\u001B[39m\n\u001B[1;32m   1194\u001B[0m                      \u001B[38;5;124m\"\u001B[39m\u001B[38;5;124m problem and should be reported.\u001B[39m\u001B[38;5;124m\"\u001B[39m)\n\u001B[1;32m   1196\u001B[0m \u001B[38;5;66;03m# first guess on the deviance is assumed to be scaled by 1.\u001B[39;00m\n\u001B[1;32m   1197\u001B[0m \u001B[38;5;66;03m# params are none to start, so they line up with the deviance\u001B[39;00m\n\u001B[1;32m   1198\u001B[0m history \u001B[38;5;241m=\u001B[39m \u001B[38;5;28mdict\u001B[39m(params\u001B[38;5;241m=\u001B[39m[np\u001B[38;5;241m.\u001B[39minf, start_params], deviance\u001B[38;5;241m=\u001B[39m[np\u001B[38;5;241m.\u001B[39minf, dev])\n",
      "\u001B[0;31mValueError\u001B[0m: The first guess on the deviance function returned a nan.  This could be a boundary  problem and should be reported."
     ]
    }
   ],
   "source": [
    "# TESTTESTTEST also delete processed_data/1/train/flows/svi/testtest.csv\n",
    "import pandas as pd\n",
    "testtest = pd.read_csv('../processed_data/1/train/flows/svi/1_descending_biased_flow.csv')\n",
    "testtest['flow'] = np.ceil(testtest['flow'])\n",
    "testtest.to_csv('../processed_data/1/train/flows/svi/testtest.csv', index=False)\n",
    "\n",
    "\n",
    "gravity_test = grav_Model(tessellation_train, tessellation_test, '../processed_data/1/train/flows/svi/testtest.csv', '../processed_data/1/test/flows/test_flow.csv', 'gravity_singly_constrained', 'flows')"
   ],
   "metadata": {
    "collapsed": false,
    "ExecuteTime": {
     "end_time": "2024-08-08T16:49:18.323813Z",
     "start_time": "2024-08-08T16:49:14.378394Z"
    }
   },
   "execution_count": 9
  },
  {
   "cell_type": "code",
   "outputs": [
    {
     "name": "stdout",
     "output_type": "stream",
     "text": [
      "Model fitting starts...\n"
     ]
    },
    {
     "ename": "ValueError",
     "evalue": "The first guess on the deviance function returned a nan.  This could be a boundary  problem and should be reported.",
     "output_type": "error",
     "traceback": [
      "\u001B[0;31m---------------------------------------------------------------------------\u001B[0m",
      "\u001B[0;31mValueError\u001B[0m                                Traceback (most recent call last)",
      "Cell \u001B[0;32mIn[6], line 1\u001B[0m\n\u001B[0;32m----> 1\u001B[0m gravity_1 \u001B[38;5;241m=\u001B[39m \u001B[43mgrav_Model\u001B[49m\u001B[43m(\u001B[49m\u001B[43mtessellation_train\u001B[49m\u001B[43m,\u001B[49m\u001B[43m \u001B[49m\u001B[43mtessellation_test\u001B[49m\u001B[43m,\u001B[49m\u001B[43m \u001B[49m\u001B[38;5;124;43m'\u001B[39;49m\u001B[38;5;124;43m../processed_data/1/train/flows/svi/1_ascending_biased_flow.csv\u001B[39;49m\u001B[38;5;124;43m'\u001B[39;49m\u001B[43m,\u001B[49m\u001B[43m \u001B[49m\u001B[38;5;124;43m'\u001B[39;49m\u001B[38;5;124;43m../processed_data/1/test/flows/test_flow.csv\u001B[39;49m\u001B[38;5;124;43m'\u001B[39;49m\u001B[43m,\u001B[49m\u001B[43m \u001B[49m\u001B[38;5;124;43m'\u001B[39;49m\u001B[38;5;124;43mgravity_singly_constrained\u001B[39;49m\u001B[38;5;124;43m'\u001B[39;49m\u001B[43m,\u001B[49m\u001B[43m \u001B[49m\u001B[38;5;124;43m'\u001B[39;49m\u001B[38;5;124;43mflows\u001B[39;49m\u001B[38;5;124;43m'\u001B[39;49m\u001B[43m)\u001B[49m\n",
      "File \u001B[0;32m~/Documents/GitHub/DSSG-CF/crowdflow-fairness/models/gravity.py:61\u001B[0m, in \u001B[0;36mgrav_Model\u001B[0;34m(tessellation_train, tessellation_test, flow_data_train_location, flow_data_test_location, gravity_type, out_format)\u001B[0m\n\u001B[1;32m     59\u001B[0m \u001B[38;5;66;03m# Fit the gravity model to the flow data using 'total_population'\u001B[39;00m\n\u001B[1;32m     60\u001B[0m \u001B[38;5;28mprint\u001B[39m(\u001B[38;5;124m'\u001B[39m\u001B[38;5;124mModel fitting starts...\u001B[39m\u001B[38;5;124m'\u001B[39m) \u001B[38;5;66;03m# Notification\u001B[39;00m\n\u001B[0;32m---> 61\u001B[0m \u001B[43mgravity_singly_fitted\u001B[49m\u001B[38;5;241;43m.\u001B[39;49m\u001B[43mfit\u001B[49m\u001B[43m(\u001B[49m\u001B[43mtrain_data\u001B[49m\u001B[43m,\u001B[49m\u001B[43m \u001B[49m\u001B[43mrelevance_column\u001B[49m\u001B[38;5;241;43m=\u001B[39;49m\u001B[38;5;124;43m'\u001B[39;49m\u001B[38;5;124;43mtotal_population\u001B[39;49m\u001B[38;5;124;43m'\u001B[39;49m\u001B[43m)\u001B[49m\n\u001B[1;32m     62\u001B[0m \u001B[38;5;28mprint\u001B[39m(\u001B[38;5;124m'\u001B[39m\u001B[38;5;124mModel fitting completed.\u001B[39m\u001B[38;5;124m'\u001B[39m) \u001B[38;5;66;03m# Notification\u001B[39;00m\n\u001B[1;32m     64\u001B[0m \u001B[38;5;66;03m# Generate synthetic flow data using the fitted gravity model\u001B[39;00m\n",
      "File \u001B[0;32m~/opt/anaconda3/envs/pycharm_crowdflow/lib/python3.9/site-packages/skmob/models/gravity.py:475\u001B[0m, in \u001B[0;36mGravity.fit\u001B[0;34m(self, flow_df, relevance_column)\u001B[0m\n\u001B[1;32m    473\u001B[0m \u001B[38;5;66;03m# Perform GLM fit\u001B[39;00m\n\u001B[1;32m    474\u001B[0m poisson_model \u001B[38;5;241m=\u001B[39m GLM(\u001B[38;5;28mself\u001B[39m\u001B[38;5;241m.\u001B[39my, \u001B[38;5;28mself\u001B[39m\u001B[38;5;241m.\u001B[39mX, family\u001B[38;5;241m=\u001B[39msm\u001B[38;5;241m.\u001B[39mgenmod\u001B[38;5;241m.\u001B[39mfamilies\u001B[38;5;241m.\u001B[39mfamily\u001B[38;5;241m.\u001B[39mPoisson(link\u001B[38;5;241m=\u001B[39msm\u001B[38;5;241m.\u001B[39mgenmod\u001B[38;5;241m.\u001B[39mfamilies\u001B[38;5;241m.\u001B[39mlinks\u001B[38;5;241m.\u001B[39mlog()))\n\u001B[0;32m--> 475\u001B[0m poisson_results \u001B[38;5;241m=\u001B[39m \u001B[43mpoisson_model\u001B[49m\u001B[38;5;241;43m.\u001B[39;49m\u001B[43mfit\u001B[49m\u001B[43m(\u001B[49m\u001B[43m)\u001B[49m\n\u001B[1;32m    477\u001B[0m \u001B[38;5;66;03m# Set best fit parameters\u001B[39;00m\n\u001B[1;32m    478\u001B[0m \u001B[38;5;28;01mif\u001B[39;00m \u001B[38;5;28mself\u001B[39m\u001B[38;5;241m.\u001B[39m_gravity_type \u001B[38;5;241m==\u001B[39m \u001B[38;5;124m'\u001B[39m\u001B[38;5;124mglobally constrained\u001B[39m\u001B[38;5;124m'\u001B[39m:\n",
      "File \u001B[0;32m~/opt/anaconda3/envs/pycharm_crowdflow/lib/python3.9/site-packages/statsmodels/genmod/generalized_linear_model.py:1075\u001B[0m, in \u001B[0;36mGLM.fit\u001B[0;34m(self, start_params, maxiter, method, tol, scale, cov_type, cov_kwds, use_t, full_output, disp, max_start_irls, **kwargs)\u001B[0m\n\u001B[1;32m   1073\u001B[0m     \u001B[38;5;28;01mif\u001B[39;00m cov_type\u001B[38;5;241m.\u001B[39mlower() \u001B[38;5;241m==\u001B[39m \u001B[38;5;124m'\u001B[39m\u001B[38;5;124meim\u001B[39m\u001B[38;5;124m'\u001B[39m:\n\u001B[1;32m   1074\u001B[0m         cov_type \u001B[38;5;241m=\u001B[39m \u001B[38;5;124m'\u001B[39m\u001B[38;5;124mnonrobust\u001B[39m\u001B[38;5;124m'\u001B[39m\n\u001B[0;32m-> 1075\u001B[0m     \u001B[38;5;28;01mreturn\u001B[39;00m \u001B[38;5;28;43mself\u001B[39;49m\u001B[38;5;241;43m.\u001B[39;49m\u001B[43m_fit_irls\u001B[49m\u001B[43m(\u001B[49m\u001B[43mstart_params\u001B[49m\u001B[38;5;241;43m=\u001B[39;49m\u001B[43mstart_params\u001B[49m\u001B[43m,\u001B[49m\u001B[43m \u001B[49m\u001B[43mmaxiter\u001B[49m\u001B[38;5;241;43m=\u001B[39;49m\u001B[43mmaxiter\u001B[49m\u001B[43m,\u001B[49m\n\u001B[1;32m   1076\u001B[0m \u001B[43m                          \u001B[49m\u001B[43mtol\u001B[49m\u001B[38;5;241;43m=\u001B[39;49m\u001B[43mtol\u001B[49m\u001B[43m,\u001B[49m\u001B[43m \u001B[49m\u001B[43mscale\u001B[49m\u001B[38;5;241;43m=\u001B[39;49m\u001B[43mscale\u001B[49m\u001B[43m,\u001B[49m\u001B[43m \u001B[49m\u001B[43mcov_type\u001B[49m\u001B[38;5;241;43m=\u001B[39;49m\u001B[43mcov_type\u001B[49m\u001B[43m,\u001B[49m\n\u001B[1;32m   1077\u001B[0m \u001B[43m                          \u001B[49m\u001B[43mcov_kwds\u001B[49m\u001B[38;5;241;43m=\u001B[39;49m\u001B[43mcov_kwds\u001B[49m\u001B[43m,\u001B[49m\u001B[43m \u001B[49m\u001B[43muse_t\u001B[49m\u001B[38;5;241;43m=\u001B[39;49m\u001B[43muse_t\u001B[49m\u001B[43m,\u001B[49m\u001B[43m \u001B[49m\u001B[38;5;241;43m*\u001B[39;49m\u001B[38;5;241;43m*\u001B[39;49m\u001B[43mkwargs\u001B[49m\u001B[43m)\u001B[49m\n\u001B[1;32m   1078\u001B[0m \u001B[38;5;28;01melse\u001B[39;00m:\n\u001B[1;32m   1079\u001B[0m     \u001B[38;5;28mself\u001B[39m\u001B[38;5;241m.\u001B[39m_optim_hessian \u001B[38;5;241m=\u001B[39m kwargs\u001B[38;5;241m.\u001B[39mget(\u001B[38;5;124m'\u001B[39m\u001B[38;5;124moptim_hessian\u001B[39m\u001B[38;5;124m'\u001B[39m)\n",
      "File \u001B[0;32m~/opt/anaconda3/envs/pycharm_crowdflow/lib/python3.9/site-packages/statsmodels/genmod/generalized_linear_model.py:1192\u001B[0m, in \u001B[0;36mGLM._fit_irls\u001B[0;34m(self, start_params, maxiter, tol, scale, cov_type, cov_kwds, use_t, **kwargs)\u001B[0m\n\u001B[1;32m   1189\u001B[0m dev \u001B[38;5;241m=\u001B[39m \u001B[38;5;28mself\u001B[39m\u001B[38;5;241m.\u001B[39mfamily\u001B[38;5;241m.\u001B[39mdeviance(\u001B[38;5;28mself\u001B[39m\u001B[38;5;241m.\u001B[39mendog, mu, \u001B[38;5;28mself\u001B[39m\u001B[38;5;241m.\u001B[39mvar_weights,\n\u001B[1;32m   1190\u001B[0m                            \u001B[38;5;28mself\u001B[39m\u001B[38;5;241m.\u001B[39mfreq_weights, \u001B[38;5;28mself\u001B[39m\u001B[38;5;241m.\u001B[39mscale)\n\u001B[1;32m   1191\u001B[0m \u001B[38;5;28;01mif\u001B[39;00m np\u001B[38;5;241m.\u001B[39misnan(dev):\n\u001B[0;32m-> 1192\u001B[0m     \u001B[38;5;28;01mraise\u001B[39;00m \u001B[38;5;167;01mValueError\u001B[39;00m(\u001B[38;5;124m\"\u001B[39m\u001B[38;5;124mThe first guess on the deviance function \u001B[39m\u001B[38;5;124m\"\u001B[39m\n\u001B[1;32m   1193\u001B[0m                      \u001B[38;5;124m\"\u001B[39m\u001B[38;5;124mreturned a nan.  This could be a boundary \u001B[39m\u001B[38;5;124m\"\u001B[39m\n\u001B[1;32m   1194\u001B[0m                      \u001B[38;5;124m\"\u001B[39m\u001B[38;5;124m problem and should be reported.\u001B[39m\u001B[38;5;124m\"\u001B[39m)\n\u001B[1;32m   1196\u001B[0m \u001B[38;5;66;03m# first guess on the deviance is assumed to be scaled by 1.\u001B[39;00m\n\u001B[1;32m   1197\u001B[0m \u001B[38;5;66;03m# params are none to start, so they line up with the deviance\u001B[39;00m\n\u001B[1;32m   1198\u001B[0m history \u001B[38;5;241m=\u001B[39m \u001B[38;5;28mdict\u001B[39m(params\u001B[38;5;241m=\u001B[39m[np\u001B[38;5;241m.\u001B[39minf, start_params], deviance\u001B[38;5;241m=\u001B[39m[np\u001B[38;5;241m.\u001B[39minf, dev])\n",
      "\u001B[0;31mValueError\u001B[0m: The first guess on the deviance function returned a nan.  This could be a boundary  problem and should be reported."
     ]
    }
   ],
   "source": [
    "# TODO:\n",
    "gravity_1 = grav_Model(tessellation_train, tessellation_test, '../processed_data/1/train/flows/svi/1_ascending_biased_flow.csv', '../processed_data/1/test/flows/test_flow.csv', 'gravity_singly_constrained', 'flows')"
   ],
   "metadata": {
    "collapsed": false,
    "ExecuteTime": {
     "end_time": "2024-08-08T08:09:53.345356Z",
     "start_time": "2024-08-08T08:09:49.539370Z"
    }
   },
   "execution_count": 6
  },
  {
   "cell_type": "code",
   "outputs": [],
   "source": [
    "gravity_2 = grav_Model(tessellation_train, tessellation_test, '../processed_data/1/train/flows/svi/1_descending_biased_flow.csv', '../processed_data/1/test/flows/test_flow.csv', 'gravity_singly_constrained', 'flows')"
   ],
   "metadata": {
    "collapsed": false
   }
  },
  {
   "cell_type": "code",
   "outputs": [],
   "source": [
    "gravity_3 = grav_Model(tessellation_train, tessellation_test, '../processed_data/1/train/flows/svi/2_ascending_biased_flow.csv', '../processed_data/1/test/flows/test_flow.csv', 'gravity_singly_constrained', 'flows')"
   ],
   "metadata": {
    "collapsed": false
   }
  },
  {
   "cell_type": "code",
   "outputs": [],
   "source": [
    "gravity_4 = grav_Model(tessellation_train, tessellation_test, '../processed_data/1/train/flows/svi/2_descending_biased_flow.csv', '../processed_data/1/test/flows/test_flow.csv', 'gravity_singly_constrained', 'flows')"
   ],
   "metadata": {
    "collapsed": false
   }
  }
 ],
 "metadata": {
  "kernelspec": {
   "display_name": "MLTutorial",
   "language": "python",
   "name": "python3"
  },
  "language_info": {
   "codemirror_mode": {
    "name": "ipython",
    "version": 3
   },
   "file_extension": ".py",
   "mimetype": "text/x-python",
   "name": "python",
   "nbconvert_exporter": "python",
   "pygments_lexer": "ipython3",
   "version": "3.11.8"
  }
 },
 "nbformat": 4,
 "nbformat_minor": 2
}
