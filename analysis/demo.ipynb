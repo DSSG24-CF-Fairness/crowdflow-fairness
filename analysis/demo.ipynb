{
 "cells": [
  {
   "cell_type": "code",
   "execution_count": 1,
   "metadata": {},
   "outputs": [],
   "source": [
    "# Create folder named experiment#1 in processed data, outputs and analysis\n",
    "\n",
    "# Get data for flow, tessellations, demographics and geographical boundary of WA\n",
    "\n",
    "# Split data into training and test - create four files: Flows for train and test, region indices for train and test\n",
    "# Save these files in processed data folder \n",
    "# TODO Create visualization and save to outputs of experiement\n",
    "\n",
    "# Biased sampling on the training data to create two biased datasets - save in processed data folder for experiment1 \n",
    "\n",
    "# Run single constrained gravity model on biased training data and original data to create three models \n",
    "# Run trained models on unbiased test data and create generated flows in outputs \n",
    "\n",
    "# Use generated flows from outputs and test true labels from processed data to create fairness metrics and visualizations\n",
    "# Save this in outputs - fairness.json and fairness.png (for each model)"
   ]
  },
  {
   "cell_type": "code",
   "execution_count": null,
   "metadata": {},
   "outputs": [],
   "source": [
    "import sys\n",
    "import os\n",
    "import pandas as pd\n",
    "import matplotlib.pyplot as plt\n",
    "\n",
    "sys.path.append(os.path.abspath('../preprocessing'))\n",
    "from train_test_processing import * \n",
    "sys.path.append(os.path.abspath('../preprocessing'))\n",
    "from train_test_split_vis import * \n",
    "\n",
    "experiment_id = '1'\n",
    "\n",
    "washington = load_state_or_county_data('../data/WA/boundary.geojson')\n",
    "flow_df = pd.read_csv('../data/WA/flow.csv')\n",
    "population_df = pd.read_csv('../data/WA/features.csv')\n",
    "washington_census_tracts = load_state_or_county_data('../data/WA/tessellation_wpop.geojson')\n",
    "grid = create_grid(washington.unary_union, 25, washington.crs)\n",
    "\n",
    "# Split the data into train and test sets\n",
    "train_output, test_output = flow_train_test_split(flow_df, population_df, washington.crs, grid, experiment_id = experiment_id)\n",
    "\n",
    "# vis\n",
    "# plot_grid_and_census_tracts(grid, washington_census_tracts, train_output, test_output)\n",
    "\n",
    "train_set_flows, test_set_flows, num_geoid_count = filter_flow_data(flow_df, population_df, train_output, test_output, experiment_id = experiment_id)\n",
    "\n",
    "print(train_set_flows, test_set_flows, num_geoid_count)\n"
   ]
  },
  {
   "cell_type": "code",
   "execution_count": 1,
   "metadata": {},
   "outputs": [
    {
     "name": "stderr",
     "output_type": "stream",
     "text": [
      "/Users/apoorvasheera/Documents/DSSG/Crowd Flow/crowdflow-fairness/preprocessing/biased_sampling.py:28: FutureWarning: Passing 'suffixes' which cause duplicate columns {'geoid_x'} in the result is deprecated and will raise a MergeError in a future version.\n",
      "  destination_merge = pd.merge(destination_merge, features[['geoid', 'total_population']], how='left', left_on='geoid_d', right_on='geoid')\n"
     ]
    },
    {
     "name": "stdout",
     "output_type": "stream",
     "text": [
      "Saved adjusted flows to ../processed_data/1/train/svi/1_ascending_biased_flows.csv\n"
     ]
    }
   ],
   "source": [
    "import sys\n",
    "import os\n",
    "import pandas as pd\n",
    "import matplotlib.pyplot as plt\n",
    "\n",
    "sys.path.append(os.path.abspath('../preprocessing'))\n",
    "from biased_sampling import *\n",
    "\n",
    "features_df = pd.read_csv(\"../data/WA/features.csv\")\n",
    "demographics_df = pd.read_csv(\"../data/WA/demographics.csv\")\n",
    "train_flows = pd.read_csv(\"../processed_data/1/train/train_flows.csv\")\n",
    "\n",
    "calculate_biased_flow(features_df, demographics_df, train_flows,demographic_column_name='svi', method=1, order=\"ascending\", sampling=False, experiment_id=\"1\", bias_factor=0.5)\n"
   ]
  },
  {
   "cell_type": "code",
   "execution_count": null,
   "metadata": {},
   "outputs": [],
   "source": []
  }
 ],
 "metadata": {
  "kernelspec": {
   "display_name": "MLTutorial",
   "language": "python",
   "name": "python3"
  },
  "language_info": {
   "codemirror_mode": {
    "name": "ipython",
    "version": 3
   },
   "file_extension": ".py",
   "mimetype": "text/x-python",
   "name": "python",
   "nbconvert_exporter": "python",
   "pygments_lexer": "ipython3",
   "version": "3.11.8"
  }
 },
 "nbformat": 4,
 "nbformat_minor": 2
}
