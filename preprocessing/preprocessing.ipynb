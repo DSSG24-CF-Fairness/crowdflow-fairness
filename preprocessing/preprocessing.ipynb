{
 "cells": [
  {
   "cell_type": "code",
   "execution_count": 4,
   "id": "initial_id",
   "metadata": {
    "collapsed": true,
    "ExecuteTime": {
     "end_time": "2024-07-18T23:30:24.698108Z",
     "start_time": "2024-07-18T23:30:23.137801Z"
    }
   },
   "outputs": [
    {
     "name": "stdout",
     "output_type": "stream",
     "text": [
      "['tessellation.geojson', 'flows.csv', 'output_areas.geojson', 'features.csv']\n"
     ]
    },
    {
     "name": "stderr",
     "output_type": "stream",
     "text": [
      "/Users/apple/opt/anaconda3/envs/pycharm_crowdflow/lib/python3.9/site-packages/geopandas/io/file.py:362: FutureWarning: pandas.Int64Index is deprecated and will be removed from pandas in a future version. Use pandas.Index with the appropriate dtype instead.\n",
      "  pd.Int64Index,\n"
     ]
    }
   ],
   "source": [
    "import geopandas as gpd\n",
    "import skmob\n",
    "\n",
    "# change your local path\n",
    "path_read = '/Users/apple/Documents/GitHub/DSSG/crowdflow-fairness/data/tessellation.geojson'\n",
    "path_save = '/Users/apple/Documents/GitHub/DSSG/crowdflow-fairness/data/tessellation_use_this.geojson'\n",
    "\n",
    "tessellation = gpd.read_file(path_read).rename(columns={'GEOID10': 'GEOID', 'Total_Population': 'total_population'})\n",
    "tessellation = tessellation[['GEOID', 'total_population', 'geometry']]\n",
    "tessellation.to_file(path_save, driver='GeoJSON')"
   ]
  },
  {
   "cell_type": "code",
   "outputs": [],
   "source": [],
   "metadata": {
    "collapsed": false
   },
   "id": "8c4376fc8515baa"
  }
 ],
 "metadata": {
  "kernelspec": {
   "display_name": "Python 3",
   "language": "python",
   "name": "python3"
  },
  "language_info": {
   "codemirror_mode": {
    "name": "ipython",
    "version": 2
   },
   "file_extension": ".py",
   "mimetype": "text/x-python",
   "name": "python",
   "nbconvert_exporter": "python",
   "pygments_lexer": "ipython2",
   "version": "2.7.6"
  }
 },
 "nbformat": 4,
 "nbformat_minor": 5
}
