{
 "cells": [
  {
   "metadata": {
    "ExecuteTime": {
     "end_time": "2024-11-23T22:49:34.184325Z",
     "start_time": "2024-11-23T22:49:33.779497Z"
    }
   },
   "cell_type": "code",
   "source": [
    "import pandas as pd\n",
    "import geopandas as gpd\n",
    "import json\n",
    "import shutil\n",
    "import os\n",
    "from shapely.geometry import mapping\n",
    "import tqdm"
   ],
   "id": "5364fa927f4e2f12",
   "outputs": [],
   "execution_count": 1
  },
  {
   "metadata": {},
   "cell_type": "markdown",
   "source": "## 1. Convert raw population file to population.csv",
   "id": "9a6474c1b7aa32d"
  },
  {
   "metadata": {
    "ExecuteTime": {
     "end_time": "2024-11-23T22:49:36.710111Z",
     "start_time": "2024-11-23T22:49:36.679978Z"
    }
   },
   "cell_type": "code",
   "source": [
    "file_path = 'DECENNIALDHC2020.P1_population/DECENNIALDHC2020.P1-Data.csv'\n",
    "raw_population = pd.read_csv(file_path)\n",
    "\n",
    "# Remove the prefix '1400000US' from the GEO_ID column\n",
    "raw_population['GEO_ID'] = raw_population['GEO_ID'].str.replace('1400000US', '', regex=False)\n",
    "raw_population = raw_population[raw_population['GEO_ID'] != 'Geography']\n",
    "\n",
    "# Rename columns\n",
    "raw_population = raw_population.rename(columns={\n",
    "    'NAME': 'label',\n",
    "    'GEO_ID': 'geoid',\n",
    "    'P1_001N': 'total_population'\n",
    "})\n",
    "\n",
    "raw_population = raw_population[['label', 'geoid', 'total_population']]\n",
    "\n",
    "\n",
    "output_file_path = 'population.csv'\n",
    "raw_population.to_csv(output_file_path, index=False)\n",
    "\n",
    "print(f\"Population data saved to {output_file_path}\")"
   ],
   "id": "3264dbf489082524",
   "outputs": [
    {
     "name": "stdout",
     "output_type": "stream",
     "text": [
      "Population data saved to population.csv\n"
     ]
    }
   ],
   "execution_count": 2
  },
  {
   "metadata": {},
   "cell_type": "markdown",
   "source": "## 2. Combining shapefile and population data into tessellation.geojson",
   "id": "69e72247a7c80c62"
  },
  {
   "metadata": {
    "ExecuteTime": {
     "end_time": "2024-11-23T22:51:39.666783Z",
     "start_time": "2024-11-23T22:51:32.147172Z"
    }
   },
   "cell_type": "code",
   "source": [
    "shapefile_path = \"tl_2020_53_tract20/tl_2020_53_tract20.shp\"\n",
    "gdf = gpd.read_file(shapefile_path)\n",
    "gdf[\"GEOID\"] = gdf[\"GEOID20\"].astype(str)\n",
    "population_csv_path = \"population.csv\"\n",
    "population_df = pd.read_csv(population_csv_path)\n",
    "population_df[\"geoid\"] = population_df[\"geoid\"].astype(str)\n",
    "population_df.rename(columns={\"geoid\": \"GEOID\"}, inplace=True)\n",
    "gdf = gdf.merge(population_df[[\"GEOID\", \"total_population\"]], on=\"GEOID\", how=\"left\")\n",
    "\n",
    "geojson = {\n",
    "    \"type\": \"FeatureCollection\",\n",
    "    \"features\": []\n",
    "}\n",
    "\n",
    "# Iterate through the rows of the GeoDataFrame and populate the GeoJSON features\n",
    "for _, row in gdf.iterrows():\n",
    "    feature = {\n",
    "        \"type\": \"Feature\",\n",
    "        \"properties\": {\n",
    "            \"GEOID\": row[\"GEOID\"],\n",
    "            \"lng\": float(row[\"INTPTLON20\"]),\n",
    "            \"lat\": float(row[\"INTPTLAT20\"]),\n",
    "            \"total_population\": row[\"total_population\"]\n",
    "        },\n",
    "        \"geometry\": mapping(row[\"geometry\"])\n",
    "    }\n",
    "    geojson[\"features\"].append(feature)\n",
    "\n",
    "output_path = 'tessellation_wip.geojson'\n",
    "with open(output_path, 'w') as f:\n",
    "    json.dump(geojson, f, indent=2)\n",
    "\n",
    "print(f\"GeoJSON file saved to {output_path}\")"
   ],
   "id": "e1f83398cad633aa",
   "outputs": [
    {
     "name": "stdout",
     "output_type": "stream",
     "text": [
      "GeoJSON file saved to tessellation_wip.geojson\n"
     ]
    }
   ],
   "execution_count": 7
  },
  {
   "metadata": {
    "ExecuteTime": {
     "end_time": "2024-11-23T22:51:54.455408Z",
     "start_time": "2024-11-23T22:51:54.395805Z"
    }
   },
   "cell_type": "code",
   "source": [
    "source = \"tessellation_wip.geojson\"\n",
    "destination = \"../tessellation.geojson\"\n",
    "shutil.copy(source, destination)\n",
    "\n",
    "print(f\"Tessellation copied from {source} to {destination}\")"
   ],
   "id": "562fffb57019a480",
   "outputs": [
    {
     "name": "stdout",
     "output_type": "stream",
     "text": [
      "Tessellation copied from tessellation_wip.geojson to ../tessellation.geojson\n"
     ]
    }
   ],
   "execution_count": 8
  },
  {
   "metadata": {},
   "cell_type": "markdown",
   "source": "## 3. Mapping geoids in flow.csv to polygon geoids in tessellation.geojson",
   "id": "6c01ffaed64c1d67"
  },
  {
   "metadata": {
    "ExecuteTime": {
     "end_time": "2024-11-23T22:53:29.383947Z",
     "start_time": "2024-11-23T22:52:10.173993Z"
    }
   },
   "cell_type": "code",
   "source": [
    "flow = pd.read_csv(\"flow_original.csv\")\n",
    "tessellation = gpd.read_file(\"tessellation_wip.geojson\")\n",
    "\n",
    "# add columns to the tessellation dataframe callled new_geoid_o and new_geoid_d\n",
    "flow[\"new_geoid_o\"] = None\n",
    "flow[\"new_geoid_d\"] = None\n",
    "from shapely.geometry import Point\n",
    "\n",
    "points_sets = set()\n",
    "progress_bar = tqdm.tqdm_notebook(total=len(flow))\n",
    "for i, row in flow.iterrows():\n",
    "    progress_bar.update(1)\n",
    "    points_sets.add((row[\"lng_o\"], row[\"lat_o\"]))\n",
    "    points_sets.add((row[\"lng_d\"], row[\"lat_d\"]))\n",
    "\n",
    "\n",
    "points_to_new_geoid_mapping = {}\n",
    "for pos in tqdm.tqdm_notebook(points_sets):\n",
    "    for j, standard_row in tessellation.iterrows():\n",
    "        if standard_row[\"geometry\"].contains(Point(pos)):\n",
    "            points_to_new_geoid_mapping[pos] = standard_row[\"GEOID\"]\n",
    "            break\n",
    "\n",
    "progress = 0\n",
    "progress_bar = tqdm.tqdm_notebook(total=len(flow))\n",
    "for i, row in flow.iterrows():\n",
    "    progress_bar.update(1)\n",
    "    lng_o = row[\"lng_o\"]\n",
    "    lat_o = row[\"lat_o\"]\n",
    "    geoid_o_old = str(row[\"geoid_o\"])\n",
    "    lng_d = row[\"lng_d\"]\n",
    "    lat_d = row[\"lat_d\"]\n",
    "    geoid_d_old = str(row[\"geoid_d\"])\n",
    "    \n",
    "    if (lng_o, lat_o) in points_to_new_geoid_mapping:\n",
    "        flow.at[i, \"new_geoid_o\"] = points_to_new_geoid_mapping[(lng_o, lat_o)]\n",
    "    if (lng_d, lat_d) in points_to_new_geoid_mapping:\n",
    "        flow.at[i, \"new_geoid_d\"] = points_to_new_geoid_mapping[(lng_d, lat_d)]\n",
    "\n",
    "flow.to_csv('flow_GEOIDadjusted.csv', index=False)\n"
   ],
   "id": "d5f02628aeee1229",
   "outputs": [
    {
     "name": "stderr",
     "output_type": "stream",
     "text": [
      "C:\\Users\\kiki\\AppData\\Local\\Temp\\ipykernel_39916\\2993260289.py:10: TqdmDeprecationWarning: This function will be removed in tqdm==5.0.0\n",
      "Please use `tqdm.notebook.tqdm` instead of `tqdm.tqdm_notebook`\n",
      "  progress_bar = tqdm.tqdm_notebook(total=len(flow))\n"
     ]
    },
    {
     "data": {
      "text/plain": [
       "  0%|          | 0/139972 [00:00<?, ?it/s]"
      ],
      "application/vnd.jupyter.widget-view+json": {
       "version_major": 2,
       "version_minor": 0,
       "model_id": "c4db58a3f002456589fa26293f7028b5"
      }
     },
     "metadata": {},
     "output_type": "display_data"
    },
    {
     "name": "stderr",
     "output_type": "stream",
     "text": [
      "C:\\Users\\kiki\\AppData\\Local\\Temp\\ipykernel_39916\\2993260289.py:18: TqdmDeprecationWarning: This function will be removed in tqdm==5.0.0\n",
      "Please use `tqdm.notebook.tqdm` instead of `tqdm.tqdm_notebook`\n",
      "  for pos in tqdm.tqdm_notebook(points_sets):\n"
     ]
    },
    {
     "data": {
      "text/plain": [
       "  0%|          | 0/1449 [00:00<?, ?it/s]"
      ],
      "application/vnd.jupyter.widget-view+json": {
       "version_major": 2,
       "version_minor": 0,
       "model_id": "4d7f7915493d4447bcb1237a41db3471"
      }
     },
     "metadata": {},
     "output_type": "display_data"
    },
    {
     "name": "stderr",
     "output_type": "stream",
     "text": [
      "C:\\Users\\kiki\\AppData\\Local\\Temp\\ipykernel_39916\\2993260289.py:25: TqdmDeprecationWarning: This function will be removed in tqdm==5.0.0\n",
      "Please use `tqdm.notebook.tqdm` instead of `tqdm.tqdm_notebook`\n",
      "  progress_bar = tqdm.tqdm_notebook(total=len(flow))\n"
     ]
    },
    {
     "data": {
      "text/plain": [
       "  0%|          | 0/139972 [00:00<?, ?it/s]"
      ],
      "application/vnd.jupyter.widget-view+json": {
       "version_major": 2,
       "version_minor": 0,
       "model_id": "a14503ff7ded4b0cabe0a935a0acfcec"
      }
     },
     "metadata": {},
     "output_type": "display_data"
    }
   ],
   "execution_count": 9
  },
  {
   "metadata": {
    "ExecuteTime": {
     "end_time": "2024-11-24T02:31:20.053733Z",
     "start_time": "2024-11-24T02:31:19.197359Z"
    }
   },
   "cell_type": "code",
   "source": [
    "# make a copy of flow\n",
    "flow_final = flow.copy()\n",
    "\n",
    "flow_final['geoid_o'] = flow_final['new_geoid_o'].astype(str)\n",
    "flow_final['geoid_d'] = flow_final['new_geoid_d'].astype(str)\n",
    "\n",
    "flow_final.drop(columns=['new_geoid_o', 'new_geoid_d'], inplace=True)\n",
    "\n",
    "flow_final['geoid_o'] = flow_final['geoid_o'].astype(str)\n",
    "flow_final['geoid_d'] = flow_final['geoid_d'].astype(str)\n",
    "\n",
    "flow_final.to_csv('../flow.csv', index=False)\n",
    "\n",
    "print(\"Transformation complete! The new file is saved as 'flow.csv'.\")"
   ],
   "id": "7846b34359bf769c",
   "outputs": [
    {
     "name": "stdout",
     "output_type": "stream",
     "text": [
      "Transformation complete! The new file is saved as 'flow.csv'.\n"
     ]
    }
   ],
   "execution_count": 13
  },
  {
   "metadata": {},
   "cell_type": "markdown",
   "source": "## 4. Convert the boundary shapefile to boundary.geojson",
   "id": "d2c2a84f792ba7a6"
  },
  {
   "metadata": {
    "ExecuteTime": {
     "end_time": "2024-11-23T22:54:07.523328Z",
     "start_time": "2024-11-23T22:54:06.547453Z"
    }
   },
   "cell_type": "code",
   "source": [
    "shapefile_path = \"tl_2020_53_puma20/tl_2020_53_puma20.shp\"\n",
    "tessellation = gpd.read_file(shapefile_path)\n",
    "\n",
    "geojson_path = \"tl_2020_53_puma20.geojson\"\n",
    "tessellation.to_file(geojson_path, driver=\"GeoJSON\")\n",
    "\n",
    "print(f\"GeoJSON file saved at {geojson_path}\")"
   ],
   "id": "6a0458cb49a0834f",
   "outputs": [
    {
     "name": "stdout",
     "output_type": "stream",
     "text": [
      "GeoJSON file saved at tl_2020_53_puma20.geojson\n"
     ]
    }
   ],
   "execution_count": 11
  },
  {
   "metadata": {
    "ExecuteTime": {
     "end_time": "2024-11-23T22:54:09.142850Z",
     "start_time": "2024-11-23T22:54:09.128852Z"
    }
   },
   "cell_type": "code",
   "source": [
    "source = \"tl_2020_53_puma20.geojson\"\n",
    "destination = \"../boundary.geojson\"\n",
    "shutil.copy(source, destination)\n",
    "\n",
    "print(f\"Tessellation copied from {source} to {destination}\")"
   ],
   "id": "533fc224896a04e4",
   "outputs": [
    {
     "name": "stdout",
     "output_type": "stream",
     "text": [
      "Tessellation copied from tl_2020_53_puma20.geojson to ../boundary.geojson\n"
     ]
    }
   ],
   "execution_count": 12
  },
  {
   "metadata": {},
   "cell_type": "code",
   "outputs": [],
   "execution_count": null,
   "source": "",
   "id": "d77554d8dd001d5a"
  }
 ],
 "metadata": {
  "kernelspec": {
   "display_name": "Python 3",
   "language": "python",
   "name": "python3"
  },
  "language_info": {
   "codemirror_mode": {
    "name": "ipython",
    "version": 2
   },
   "file_extension": ".py",
   "mimetype": "text/x-python",
   "name": "python",
   "nbconvert_exporter": "python",
   "pygments_lexer": "ipython2",
   "version": "2.7.6"
  }
 },
 "nbformat": 4,
 "nbformat_minor": 5
}
